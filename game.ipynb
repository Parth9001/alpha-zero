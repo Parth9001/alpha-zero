{
 "cells": [
  {
   "cell_type": "code",
   "execution_count": 10,
   "metadata": {},
   "outputs": [],
   "source": [
    "import numpy as np\n",
    "import torch\n",
    "import torch.nn as nn\n",
    "import torch.nn.functional as F\n",
    "import math"
   ]
  },
  {
   "cell_type": "code",
   "execution_count": 5,
   "metadata": {},
   "outputs": [],
   "source": [
    "class TicTacToe:\n",
    "    def __init__(self):\n",
    "        self.board = np.zeros((3, 3), dtype=int)\n",
    "        self.current_player = 1\n",
    "    \n",
    "    def make_move(self, row, col):\n",
    "        if self.board[row, col] == 0:\n",
    "            self.board[row, col] = self.current_player\n",
    "            self.current_player = 3 - self.current_player  # Switch player\n",
    "            return True\n",
    "        return False\n",
    "\n",
    "    def check_winner(self):\n",
    "        for i in range(3):\n",
    "            if np.all(self.board[i, :] == self.current_player):\n",
    "                return self.current_player\n",
    "            if np.all(self.board[:, i] == self.current_player):\n",
    "                return self.current_player\n",
    "        \n",
    "        if self.board[0, 0] == self.board[1, 1] == self.board[2, 2] == self.current_player:\n",
    "            return self.current_player\n",
    "        \n",
    "        if self.board[0, 2] == self.board[1, 1] == self.board[2, 0] == self.current_player:\n",
    "            return self.current_player\n",
    "        \n",
    "        return 0\n",
    "\n",
    "    def is_draw(self):\n",
    "        return np.all(self.board != 0)\n",
    "\n",
    "    def is_game_over(self):\n",
    "        return self.check_winner() or self.is_draw()\n",
    "\n",
    "    def get_valid_moves(self):\n",
    "        return [(i, j) for i in range(3) for j in range(3) if self.board[i, j] == 0]\n",
    "\n",
    "    def display(self):\n",
    "        print(self.board)"
   ]
  }
 ],
 "metadata": {
  "kernelspec": {
   "display_name": "env",
   "language": "python",
   "name": "python3"
  },
  "language_info": {
   "codemirror_mode": {
    "name": "ipython",
    "version": 3
   },
   "file_extension": ".py",
   "mimetype": "text/x-python",
   "name": "python",
   "nbconvert_exporter": "python",
   "pygments_lexer": "ipython3",
   "version": "3.10.14"
  },
  "orig_nbformat": 4,
  "vscode": {
   "interpreter": {
    "hash": "3417958533728861eeac5d2cbd3320613748a2616df8deaeec72181b61d05632"
   }
  }
 },
 "nbformat": 4,
 "nbformat_minor": 2
}
